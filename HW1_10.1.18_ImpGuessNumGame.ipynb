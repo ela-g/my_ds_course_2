{
 "cells": [
  {
   "cell_type": "code",
   "execution_count": 1,
   "metadata": {
    "scrolled": true
   },
   "outputs": [
    {
     "name": "stdout",
     "output_type": "stream",
     "text": [
      "I have chosen a number between 1 and 100.\n",
      "Please try to guess it...\n",
      "50\n",
      "Wrong! You're too low. \n",
      "Try again!\n",
      "75\n",
      "Wrong! You're too low. \n",
      "Try again!\n",
      "87\n",
      "Wrong! You're too low. \n",
      "Try again!\n",
      "94\n",
      "high\n",
      "90\n",
      "Yes! It was 90 \n",
      "took you less than 10 guesses :)\n"
     ]
    }
   ],
   "source": [
    "import random\n",
    "\n",
    "my_number = random.randint(1, 100)\n",
    "\n",
    "print(\"I have chosen a number between 1 and 100.\")\n",
    "print(\"Please try to guess it...\")\n",
    "\n",
    "user_guess = int(input())\n",
    "\n",
    "#creating an index starting from 1 to indicate number of guesses.\n",
    "i = 1\n",
    "while my_number != user_guess:\n",
    "# a variable holding the direction the mistake. Will be part of the \"wrong guess\" output. \n",
    "    a = \"low.\" if user_guess < my_number else \"high.\" if user_guess > my_number else None\n",
    "# output for wrong guess\n",
    "    print(\"Wrong! You're too %s. \\nTry again!\"\n",
    "         % \"low\" if user_guess < my_number else \"high\" if user_guess > my_number else None)\n",
    "    user_guess = int(input())\n",
    "# after every wrong guess, the index grows by one\n",
    "    i = i + 1\n",
    "# output for correct answer - 3 variations for 1/10-/10+ guesses, as indicated by i \n",
    "# output for correct answer on the 1st guess\n",
    "if i == 1:\n",
    "    print(\"WOW. Nailed it in the first try! \\ndid you hack my computer??\" )\n",
    "# output in case it took up to 10 tries     \n",
    "elif i < 10:\n",
    "    print(\"Yes! It was\", my_number, \"\"\"\n",
    "took you less than 10 guesses :)\"\"\")\n",
    "# output in case it took 10 tries and more   \n",
    "else:\n",
    "    print(\"Finally :-)\\nTook you\", i, \"guesses.\")"
   ]
  },
  {
   "cell_type": "code",
   "execution_count": null,
   "metadata": {
    "collapsed": true
   },
   "outputs": [],
   "source": []
  }
 ],
 "metadata": {
  "kernelspec": {
   "display_name": "Python 3",
   "language": "python",
   "name": "python3"
  },
  "language_info": {
   "codemirror_mode": {
    "name": "ipython",
    "version": 3
   },
   "file_extension": ".py",
   "mimetype": "text/x-python",
   "name": "python",
   "nbconvert_exporter": "python",
   "pygments_lexer": "ipython3",
   "version": "3.6.3"
  }
 },
 "nbformat": 4,
 "nbformat_minor": 2
}

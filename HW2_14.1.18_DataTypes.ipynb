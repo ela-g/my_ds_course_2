{
 "cells": [
  {
   "cell_type": "markdown",
   "metadata": {},
   "source": [
    "# Exercise 1"
   ]
  },
  {
   "cell_type": "code",
   "execution_count": 12,
   "metadata": {},
   "outputs": [
    {
     "name": "stdout",
     "output_type": "stream",
     "text": [
      "24.221453287197235\n",
      "My height is 1.700 meters, \n",
      "my weight is 70.000 Kgs, \n",
      "and my BMI is 24.221.\n"
     ]
    }
   ],
   "source": [
    "my_height_meters = 1.7\n",
    "my_weight_kg = 70\n",
    "my_BMI = my_weight_kg / my_height_meters ** float(2)\n",
    "print(my_BMI)\n",
    "print(\"My height is %.3f meters, \\nmy weight is %.3f Kgs, \\nand my BMI is %.3f.\" % (my_height_meters, my_weight_kg, my_BMI))\n"
   ]
  },
  {
   "cell_type": "markdown",
   "metadata": {},
   "source": [
    "# Exercise 2"
   ]
  },
  {
   "cell_type": "markdown",
   "metadata": {},
   "source": [
    "Assign your first name and your last name to the variables first_name and last_name, respectively.\n",
    "How many letters does your full name have?\n",
    "\n",
    "Create your full name by concatenating first_name and first_name with a space in the middle, and assign the result to a variable called full_name.\n",
    "\n",
    "Use the string method replace() to change all the vowels in your full name from lower case to upper case. (Vowels are the letters 'a', 'e', 'i', 'o' & 'u')\n",
    "\n",
    "Note that you are not allowed to use the for syntax at the moment."
   ]
  },
  {
   "cell_type": "code",
   "execution_count": 38,
   "metadata": {},
   "outputs": [
    {
     "data": {
      "text/plain": [
       "'ElA GrIngAUz'"
      ]
     },
     "execution_count": 38,
     "metadata": {},
     "output_type": "execute_result"
    }
   ],
   "source": [
    "first_name = \"Ela\"\n",
    "last_name = \"Gringauz\"\n",
    "full_name = (first_name + \" \" + last_name)\n",
    "full_name.replace(\"a\", \"A\").replace(\"e\", \"E\").replace(\"i\", \"I\").replace(\"o\",\"O\").replace(\"u\",\"U\")\n"
   ]
  },
  {
   "cell_type": "markdown",
   "metadata": {},
   "source": [
    "# Exercise 3\n",
    "\n",
    "\n",
    "Define proper variables with the following data for yourself and for one of your imaginary friends: gender (string), age (int), city (string) and marital status (Boolean). \n",
    "\n",
    "Then create the following Boolean variables:\n",
    "same_city – do both of you live in the same city?\n",
    "is_older – is your friend older than you?\n",
    "diff_gender – are you from different genders?\n",
    "myboth_married – are you both married?"
   ]
  },
  {
   "cell_type": "code",
   "execution_count": 41,
   "metadata": {},
   "outputs": [
    {
     "name": "stdout",
     "output_type": "stream",
     "text": [
      "True\n",
      "False\n",
      "False\n",
      "False\n"
     ]
    }
   ],
   "source": [
    "me_gender = str(\"WOman\")\n",
    "me_age = int(32.1)\n",
    "me_city = str(\"Tel-Aviv\")\n",
    "me_is_married = bool(False)\n",
    "\n",
    "img_friend_gender = str(\"woman\")\n",
    "img_friend_age = int(32.6)\n",
    "img_friend_city = str(\"tel-aviv\")\n",
    "img_friend_is_married = bool(True)\n",
    "\n",
    "me_gender_lower = me_gender.lower()\n",
    "me_city_lower = me_city.lower()\n",
    "\n",
    "img_friend_gender_lower = img_friend_gender.lower()\n",
    "img_friend_city_lower = img_friend_city.lower()\n",
    "\n",
    "same_city = me_city_lower == img_friend_city_lower\n",
    "is_older = int(me_age) < int(img_friend_age)\n",
    "diff_gender = me_gender_lower != img_friend_gender_lower\n",
    "both_married = me_is_married and img_friend_is_married\n",
    "\n",
    "print(same_city)\n",
    "print(is_older)\n",
    "print(diff_gender)\n",
    "print(both_married)\n"
   ]
  }
 ],
 "metadata": {
  "kernelspec": {
   "display_name": "Python 3",
   "language": "python",
   "name": "python3"
  },
  "language_info": {
   "codemirror_mode": {
    "name": "ipython",
    "version": 3
   },
   "file_extension": ".py",
   "mimetype": "text/x-python",
   "name": "python",
   "nbconvert_exporter": "python",
   "pygments_lexer": "ipython3",
   "version": "3.6.3"
  }
 },
 "nbformat": 4,
 "nbformat_minor": 2
}

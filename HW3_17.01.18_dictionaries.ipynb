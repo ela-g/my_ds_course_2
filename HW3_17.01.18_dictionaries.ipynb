{
 "cells": [
  {
   "cell_type": "markdown",
   "metadata": {},
   "source": [
    "### Exercise 1"
   ]
  },
  {
   "cell_type": "markdown",
   "metadata": {},
   "source": [
    "1. Create a dictionary with 3 items of the following form:\n",
    "    * key – a letter\n",
    "    * value – a list of words starting with the key letter\n",
    "2. Use the mutability of the dictionary to add a new word to each of the dictionary items without recreating its values.\n",
    "3. Add a new item to the dictionary.\n",
    "4. Remove an item from the dictionary.\n",
    "5. Create a list, whose elements are the lists of words from the dictionary."
   ]
  },
  {
   "cell_type": "code",
   "execution_count": 3,
   "metadata": {},
   "outputs": [],
   "source": [
    "my_dict1 = {\"a\": [\"apple\", \"awesome\", \"anaconda\"],\n",
    "           \"j\": [\"jesus\", \"jump\", \"jazz\"],\n",
    "           \"t\": [\"time\", \"tomao\", \"thanks\"]}"
   ]
  },
  {
   "cell_type": "code",
   "execution_count": 8,
   "metadata": {},
   "outputs": [],
   "source": [
    "my_dict1[\"a\"].append(\"always\")\n",
    "my_dict1[\"j\"].append(\"jelly\")\n",
    "my_dict1[\"t\"].append(\"tiger\")"
   ]
  },
  {
   "cell_type": "code",
   "execution_count": 11,
   "metadata": {},
   "outputs": [],
   "source": [
    "my_dict1[\"w\"] = [\"wow\", \"why\", \"wonder\"]"
   ]
  },
  {
   "cell_type": "code",
   "execution_count": 12,
   "metadata": {},
   "outputs": [
    {
     "data": {
      "text/plain": [
       "{'a': ['apple', 'awesome', 'anaconda', 'always', 'always', 'always'],\n",
       " 'j': ['jesus', 'jump', 'jazz', 'jelly'],\n",
       " 't': ['time', 'tomao', 'thanks', 'tiger'],\n",
       " 'w': ['wow', 'why', 'wonder']}"
      ]
     },
     "execution_count": 12,
     "metadata": {},
     "output_type": "execute_result"
    }
   ],
   "source": [
    "my_dict1"
   ]
  },
  {
   "cell_type": "code",
   "execution_count": 13,
   "metadata": {
    "collapsed": true
   },
   "outputs": [],
   "source": [
    "del my_dict1[\"t\"]"
   ]
  },
  {
   "cell_type": "code",
   "execution_count": 14,
   "metadata": {},
   "outputs": [
    {
     "data": {
      "text/plain": [
       "{'a': ['apple', 'awesome', 'anaconda', 'always', 'always', 'always'],\n",
       " 'j': ['jesus', 'jump', 'jazz', 'jelly'],\n",
       " 'w': ['wow', 'why', 'wonder']}"
      ]
     },
     "execution_count": 14,
     "metadata": {},
     "output_type": "execute_result"
    }
   ],
   "source": [
    "my_dict1"
   ]
  },
  {
   "cell_type": "code",
   "execution_count": 20,
   "metadata": {},
   "outputs": [],
   "source": [
    "list1 = [my_dict1[\"a\"], my_dict1[\"j\"], my_dict1[\"w\"]]"
   ]
  },
  {
   "cell_type": "code",
   "execution_count": 21,
   "metadata": {},
   "outputs": [
    {
     "data": {
      "text/plain": [
       "[['apple', 'awesome', 'anaconda', 'always', 'always', 'always'],\n",
       " ['jesus', 'jump', 'jazz', 'jelly'],\n",
       " ['wow', 'why', 'wonder']]"
      ]
     },
     "execution_count": 21,
     "metadata": {},
     "output_type": "execute_result"
    }
   ],
   "source": [
    "list1"
   ]
  },
  {
   "cell_type": "code",
   "execution_count": null,
   "metadata": {
    "collapsed": true
   },
   "outputs": [],
   "source": []
  }
 ],
 "metadata": {
  "kernelspec": {
   "display_name": "Python 3",
   "language": "python",
   "name": "python3"
  },
  "language_info": {
   "codemirror_mode": {
    "name": "ipython",
    "version": 3
   },
   "file_extension": ".py",
   "mimetype": "text/x-python",
   "name": "python",
   "nbconvert_exporter": "python",
   "pygments_lexer": "ipython3",
   "version": "3.6.3"
  }
 },
 "nbformat": 4,
 "nbformat_minor": 2
}
